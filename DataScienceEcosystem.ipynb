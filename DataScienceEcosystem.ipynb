{
 "cells": [
  {
   "cell_type": "markdown",
   "id": "0e63b703",
   "metadata": {},
   "source": [
    "# Data Science Tools and Ecosystem\n",
    "\n"
   ]
  },
  {
   "cell_type": "markdown",
   "id": "144cb898",
   "metadata": {},
   "source": [
    "## Introduction\n",
    "\n",
    "In this notebook, we will delve into a comprehensive summary of the diverse array of tools and the ecosystem in the field of Data Science. This summary aims to provide an overview of the essential components and advancements within the Data Science landscape.\n"
   ]
  },
  {
   "cell_type": "markdown",
   "id": "3129e62f",
   "metadata": {},
   "source": [
    "## **Objectives:**\n",
    "\n",
    "- List popular languages for Data Science.\n",
    "- Identify commonly used libraries in Data Science.\n",
    "- Introduce fundamental arithmetic operations in Python.\n",
    "- Showcase the conversion of units within Python (minutes to hours).\n",
    "- Explore essential tools within the Data Science ecosystem.\n"
   ]
  },
  {
   "cell_type": "markdown",
   "id": "3f38b1d7",
   "metadata": {},
   "source": [
    "## Popular Data Science Languages\n",
    "\n",
    "Some of the popular languages that Data Scientists use are:\n",
    "\n",
    "1. Python\n",
    "2. R\n",
    "3. SQL (Structured Query Language)\n",
    "4. Julia\n",
    "5. SAS (Statistical Analysis System)\n",
    "6. Java\n",
    "7. Scala\n",
    "8. MATLAB\n",
    "9. JavaScript\n",
    "10. Ruby\n",
    "11. C/C++\n",
    "12. Swift\n"
   ]
  },
  {
   "cell_type": "markdown",
   "id": "5f503a6a",
   "metadata": {},
   "source": [
    "## Commonly Used Data Science Libraries\n",
    "\n",
    "Some of the commonly used libraries by Data Scientists include:\n",
    "\n",
    "1. Pandas\n",
    "2. NumPy\n",
    "3. SciPy\n",
    "4. Matplotlib\n",
    "5. Seaborn\n",
    "6. Scikit-learn\n",
    "7. TensorFlow\n",
    "8. Keras\n",
    "9. PyTorch\n",
    "10. NLTK (Natural Language Toolkit)\n",
    "11. OpenCV (Open Source Computer Vision Library)\n",
    "12. XGBoost\n"
   ]
  },
  {
   "cell_type": "markdown",
   "id": "eb709e86",
   "metadata": {},
   "source": [
    "## Data Science Tools\n",
    "\n",
    "| Data Science Tools          |\n",
    "|-----------------------------|\n",
    "| Jupyter Notebook            |\n",
    "| RStudio                     |\n",
    "| Apache Zeppelin             |\n"
   ]
  },
  {
   "cell_type": "markdown",
   "id": "36b866c4",
   "metadata": {},
   "source": [
    "### Examples of Evaluating Arithmetic Expressions in Python\n",
    "\n",
    "In this section, we'll explore and evaluate various arithmetic expressions using Python. Below are a few examples demonstrating how arithmetic operations are performed within Python code.\n"
   ]
  },
  {
   "cell_type": "code",
   "execution_count": 1,
   "id": "8eb4a6f5",
   "metadata": {},
   "outputs": [
    {
     "name": "stdout",
     "output_type": "stream",
     "text": [
      "17\n"
     ]
    }
   ],
   "source": [
    "# This is a simple arithmetic expression to multiply then add integers.\n",
    "result = (3 * 4) + 5\n",
    "print(result)\n"
   ]
  },
  {
   "cell_type": "code",
   "execution_count": 2,
   "id": "12294ac6",
   "metadata": {},
   "outputs": [
    {
     "name": "stdout",
     "output_type": "stream",
     "text": [
      "3.3333333333333335\n"
     ]
    }
   ],
   "source": [
    "# This will convert 200 minutes to hours by dividing by 60.\n",
    "minutes = 200\n",
    "hours = minutes / 60\n",
    "print(hours)\n"
   ]
  },
  {
   "cell_type": "markdown",
   "id": "b0a03155",
   "metadata": {},
   "source": [
    "## Author\n",
    "\n",
    "Aniket\n"
   ]
  },
  {
   "cell_type": "code",
   "execution_count": null,
   "id": "4178b67d",
   "metadata": {},
   "outputs": [],
   "source": []
  }
 ],
 "metadata": {
  "kernelspec": {
   "display_name": "Python 3 (ipykernel)",
   "language": "python",
   "name": "python3"
  },
  "language_info": {
   "codemirror_mode": {
    "name": "ipython",
    "version": 3
   },
   "file_extension": ".py",
   "mimetype": "text/x-python",
   "name": "python",
   "nbconvert_exporter": "python",
   "pygments_lexer": "ipython3",
   "version": "3.11.5"
  }
 },
 "nbformat": 4,
 "nbformat_minor": 5
}
